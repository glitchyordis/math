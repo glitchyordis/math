{
 "cells": [
  {
   "cell_type": "code",
   "execution_count": 1,
   "metadata": {},
   "outputs": [],
   "source": [
    "import sympy as sp\n",
    "from IPython.display import display, Markdown\n",
    "import numpy as np"
   ]
  },
  {
   "cell_type": "code",
   "execution_count": 2,
   "metadata": {},
   "outputs": [
    {
     "name": "stdout",
     "output_type": "stream",
     "text": [
      "IPython console for SymPy 1.12 (Python 3.10.13-64-bit) (ground types: python)\n",
      "\n",
      "These commands were executed:\n",
      ">>> from sympy import *\n",
      ">>> x, y, z, t = symbols('x y z t')\n",
      ">>> k, m, n = symbols('k m n', integer=True)\n",
      ">>> f, g, h = symbols('f g h', cls=Function)\n",
      ">>> init_printing()\n",
      "\n",
      "Documentation can be found at https://docs.sympy.org/1.12/\n",
      "\n"
     ]
    }
   ],
   "source": [
    "sp.init_session()"
   ]
  },
  {
   "cell_type": "code",
   "execution_count": null,
   "metadata": {},
   "outputs": [],
   "source": [
    "x = sp.symbols('v_1:5')\n",
    "np.mean(x + np.ones(4)*10)"
   ]
  },
  {
   "cell_type": "code",
   "execution_count": 3,
   "metadata": {},
   "outputs": [
    {
     "data": {
      "image/png": "[encoded data removed]",
      "text/latex": [
       "$\\displaystyle \\left( v_{1}, \\  v_{2}, \\  v_{3}, \\  v_{4}\\right)$"
      ],
      "text/plain": [
       "(v₁, v₂, v₃, v₄)"
      ]
     },
     "metadata": {},
     "output_type": "display_data"
    },
    {
     "data": {
      "text/latex": [
       "$\\displaystyle \\left[\\begin{matrix}v_{1} & v_{3}\\\\v_{2} & v_{4}\\end{matrix}\\right]$"
      ],
      "text/plain": [
       "⎡v₁  v₃⎤\n",
       "⎢      ⎥\n",
       "⎣v₂  v₄⎦"
      ]
     },
     "metadata": {},
     "output_type": "display_data"
    },
    {
     "data": {
      "text/latex": [
       "$\\displaystyle \\left[\\begin{matrix}v_{1} & v_{2}\\\\v_{3} & v_{4}\\end{matrix}\\right]$"
      ],
      "text/plain": [
       "⎡v₁  v₂⎤\n",
       "⎢      ⎥\n",
       "⎣v₃  v₄⎦"
      ]
     },
     "metadata": {},
     "output_type": "display_data"
    }
   ],
   "source": [
    "v = sp.symbols('v_1:5') # could also write sp.symbols('v1:5')\n",
    "\n",
    "display(v)\n",
    "display(sp.Matrix(2, 2, v).T)\n",
    "display(sp.Matrix(2, 2, v))"
   ]
  },
  {
   "cell_type": "code",
   "execution_count": 5,
   "metadata": {},
   "outputs": [
    {
     "data": {
      "text/latex": [
       "$\\displaystyle \\left[\\begin{matrix}v_{11} & v_{12} & v_{13} & v_{14} & v_{15}\\\\v_{21} & v_{22} & v_{23} & v_{24} & v_{25}\\end{matrix}\\right]$"
      ],
      "text/plain": [
       "⎡v_{11}  v_{12}  v_{13}  v_{14}  v_{15}⎤\n",
       "⎢                                      ⎥\n",
       "⎣v_{21}  v_{22}  v_{23}  v_{24}  v_{25}⎦"
      ]
     },
     "execution_count": 5,
     "metadata": {},
     "output_type": "execute_result"
    }
   ],
   "source": [
    "# Define the symbols for the first row\n",
    "v1 = sp.symbols(\"v_{11:16}\")\n",
    "\n",
    "# Define the symbols for the second row\n",
    "v2 = sp.symbols(\"v_{21:26}\")\n",
    "\n",
    "# Create the matrix\n",
    "sp.Matrix([v1, v2])"
   ]
  },
  {
   "cell_type": "code",
   "execution_count": 46,
   "metadata": {},
   "outputs": [
    {
     "data": {
      "image/png": "[encoded data removed]",
      "text/latex": [
       "$\\displaystyle 2 X + 1$"
      ],
      "text/plain": [
       "2⋅X + 1"
      ]
     },
     "execution_count": 46,
     "metadata": {},
     "output_type": "execute_result"
    }
   ],
   "source": [
    "X = sp.Symbol(\"X\")\n",
    "X+X+1"
   ]
  },
  {
   "cell_type": "code",
   "execution_count": 47,
   "metadata": {},
   "outputs": [
    {
     "data": {
      "image/png": "[encoded data removed]",
      "text/latex": [
       "$\\displaystyle 2 a b + 2 a c$"
      ],
      "text/plain": [
       "2⋅a⋅b + 2⋅a⋅c"
      ]
     },
     "execution_count": 47,
     "metadata": {},
     "output_type": "execute_result"
    }
   ],
   "source": [
    "a,b,c, x, y = sp.symbols(\"a,b,c,x,y\")\n",
    "a*b + b*a + a*c + c*a "
   ]
  },
  {
   "cell_type": "code",
   "execution_count": 48,
   "metadata": {},
   "outputs": [
    {
     "name": "stdout",
     "output_type": "stream",
     "text": [
      "(a - b)*(a + b)\n"
     ]
    },
    {
     "data": {
      "image/png": "[encoded data removed]",
      "text/latex": [
       "$\\displaystyle \\left(a - b\\right) \\left(a + b\\right)$"
      ],
      "text/plain": [
       "(a - b)⋅(a + b)"
      ]
     },
     "metadata": {},
     "output_type": "display_data"
    },
    {
     "data": {
      "image/png": "[encoded data removed]",
      "text/latex": [
       "$\\displaystyle a^{2} - b^{2}$"
      ],
      "text/plain": [
       " 2    2\n",
       "a  - b "
      ]
     },
     "metadata": {},
     "output_type": "display_data"
    }
   ],
   "source": [
    "expr = sp.factor(a**2 - b**2)\n",
    "print(expr)\n",
    "display(expr)\n",
    "display(sp.expand(expr))"
   ]
  },
  {
   "cell_type": "code",
   "execution_count": 49,
   "metadata": {},
   "outputs": [
    {
     "data": {
      "image/png": "[encoded data removed]",
      "text/latex": [
       "$\\displaystyle \\int \\sqrt{\\frac{1}{a}}\\, da$"
      ],
      "text/plain": [
       "⌠           \n",
       "⎮     ___   \n",
       "⎮    ╱ 1    \n",
       "⎮   ╱  ─  da\n",
       "⎮ ╲╱   a    \n",
       "⌡           "
      ]
     },
     "execution_count": 49,
     "metadata": {},
     "output_type": "execute_result"
    }
   ],
   "source": [
    "sp.Integral(sp.sqrt(1/a), a)"
   ]
  },
  {
   "cell_type": "code",
   "execution_count": 50,
   "metadata": {},
   "outputs": [
    {
     "data": {
      "image/png": "[encoded data removed]",
      "text/latex": [
       "$\\displaystyle x^{2} + 2 x y + y^{2}$"
      ],
      "text/plain": [
       " 2            2\n",
       "x  + 2⋅x⋅y + y "
      ]
     },
     "metadata": {},
     "output_type": "display_data"
    },
    {
     "data": {
      "image/png": "[encoded data removed]",
      "text/latex": [
       "$\\displaystyle 9$"
      ],
      "text/plain": [
       "9"
      ]
     },
     "metadata": {},
     "output_type": "display_data"
    },
    {
     "data": {
      "image/png": "[encoded data removed]",
      "text/latex": [
       "$\\displaystyle y^{2} + 2 y \\left(y - 1\\right) + \\left(y - 1\\right)^{2}$"
      ],
      "text/plain": [
       " 2                        2\n",
       "y  + 2⋅y⋅(y - 1) + (y - 1) "
      ]
     },
     "metadata": {},
     "output_type": "display_data"
    },
    {
     "data": {
      "image/png": "[encoded data removed]",
      "text/latex": [
       "$\\displaystyle 4 y^{2} - 4 y + 1$"
      ],
      "text/plain": [
       "   2          \n",
       "4⋅y  - 4⋅y + 1"
      ]
     },
     "metadata": {},
     "output_type": "display_data"
    }
   ],
   "source": [
    "expr = x**2 + 2*x*y + y**2\n",
    "display(expr)\n",
    "display(expr.subs({x:1, y:2})) # gives 9\n",
    "display(expr.subs({x:y-1}))\n",
    "display(sp.simplify(expr.subs({x:y-1})))"
   ]
  },
  {
   "cell_type": "code",
   "execution_count": 51,
   "metadata": {},
   "outputs": [
    {
     "name": "stdout",
     "output_type": "stream",
     "text": [
      "Invalid input\n"
     ]
    }
   ],
   "source": [
    "expr1 = input(\"Input first expression\")\n",
    "expr2 = input(\"Input second expression\")\n",
    "\n",
    "try:\n",
    "    expr1 = sp.sympify(expr1)\n",
    "    expr2 = sp.sympify(expr2)\n",
    "\n",
    "    display(sp.expand(expr1 * expr2))    \n",
    "except sp.SympifyError:\n",
    "    print(\"Invalid input\")\n",
    "\n",
    "# Input first expression x*2 + y\n",
    "# Input second expression x*3 + y\n",
    "# 6*x**2 + 5*x*y + y**2"
   ]
  },
  {
   "cell_type": "code",
   "execution_count": 52,
   "metadata": {},
   "outputs": [
    {
     "data": {
      "image/png": "[encoded data removed]",
      "text/latex": [
       "$\\displaystyle \\left[ 1 - \\sqrt{6} i, \\  1 + \\sqrt{6} i\\right]$"
      ],
      "text/plain": [
       "[1 - √6⋅ⅈ, 1 + √6⋅ⅈ]"
      ]
     },
     "metadata": {},
     "output_type": "display_data"
    },
    {
     "data": {
      "image/png": "[encoded data removed]",
      "text/latex": [
       "$\\displaystyle \\left[ - \\frac{y}{2} - \\frac{\\sqrt{y^{2} - 4 z}}{2}, \\  - \\frac{y}{2} + \\frac{\\sqrt{y^{2} - 4 z}}{2}\\right]$"
      ],
      "text/plain": [
       "⎡         __________           __________⎤\n",
       "⎢        ╱  2                 ╱  2       ⎥\n",
       "⎢  y   ╲╱  y  - 4⋅z     y   ╲╱  y  - 4⋅z ⎥\n",
       "⎢- ─ - ─────────────, - ─ + ─────────────⎥\n",
       "⎣  2         2          2         2      ⎦"
      ]
     },
     "metadata": {},
     "output_type": "display_data"
    },
    {
     "data": {
      "image/png": "[encoded data removed]",
      "text/latex": [
       "$\\displaystyle \\left[ -1 - \\sqrt{6} i, \\  -1 + \\sqrt{6} i\\right]$"
      ],
      "text/plain": [
       "[-1 - √6⋅ⅈ, -1 + √6⋅ⅈ]"
      ]
     },
     "metadata": {},
     "output_type": "display_data"
    }
   ],
   "source": [
    "x, y, z = sp.symbols(\"x y z\")\n",
    "q = x**2 - 2*x + 7\n",
    "\n",
    "# solve quadratic equation\n",
    "display(sp.solve(q))\n",
    "\n",
    "# solve for 1 var instead of the other\n",
    "q = x ** 2 + y * x + z\n",
    "res = sp.solve(q, x)\n",
    "display(res)\n",
    "\n",
    "# compute for a pair of values\n",
    "display([ret.subs({y:2, z:7}) for ret in res])\n"
   ]
  },
  {
   "cell_type": "code",
   "execution_count": 53,
   "metadata": {},
   "outputs": [
    {
     "data": {
      "image/png": "[encoded data removed]",
      "text/latex": [
       "$\\displaystyle \\left[ \\operatorname{asin}{\\left(y + z \\right)} + \\pi, \\  - \\operatorname{asin}{\\left(y + z \\right)}\\right]$"
      ],
      "text/plain": [
       "[asin(y + z) + π, -asin(y + z)]"
      ]
     },
     "metadata": {},
     "output_type": "display_data"
    },
    {
     "data": {
      "image/png": "[encoded data removed]",
      "text/latex": [
       "$\\displaystyle \\left[ 0.10016742116156 + \\pi, \\  -0.10016742116156\\right]$"
      ],
      "text/plain": [
       "[0.10016742116156 + π, -0.10016742116156]"
      ]
     },
     "metadata": {},
     "output_type": "display_data"
    }
   ],
   "source": [
    "eq = sp.sin(x) + y + z\n",
    "ret = sp.solve(eq, x)\n",
    "display(ret)\n",
    "display([r.subs({y:0.4, z:-0.3}) for r in ret])"
   ]
  },
  {
   "cell_type": "code",
   "execution_count": 54,
   "metadata": {},
   "outputs": [
    {
     "data": {
      "image/png": "[encoded data removed]",
      "text/latex": [
       "$\\displaystyle \\left\\{ x : \\frac{7}{16}, \\  y : \\frac{5}{8}\\right\\}$"
      ],
      "text/plain": [
       "{x: 7/16, y: 5/8}"
      ]
     },
     "execution_count": 54,
     "metadata": {},
     "output_type": "execute_result"
    }
   ],
   "source": [
    "# System of linear equations\n",
    "e1 = 2 * x - 3 * y + 1\n",
    "e2 = 4 * x + 2 * y - 3\n",
    "sp.solve((e1, e2))"
   ]
  },
  {
   "cell_type": "code",
   "execution_count": 55,
   "metadata": {},
   "outputs": [
    {
     "data": {
      "image/png": "[encoded data removed]",
      "text/latex": [
       "$\\displaystyle \\left[ \\left\\{ x : - \\frac{7}{2} - \\frac{\\sqrt{1 + 4 \\sqrt{3}}}{2}, \\  y : - \\frac{1}{2} + \\frac{\\sqrt{1 + 4 \\sqrt{3}}}{2}\\right\\}, \\  \\left\\{ x : - \\frac{7}{2} + \\frac{\\sqrt{1 + 4 \\sqrt{3}}}{2}, \\  y : - \\frac{\\sqrt{1 + 4 \\sqrt{3}}}{2} - \\frac{1}{2}\\right\\}\\right]$"
      ],
      "text/plain": [
       "⎡⎧           __________             __________⎫  ⎧           __________       \n",
       "⎢⎪     7   ╲╱ 1 + 4⋅√3        1   ╲╱ 1 + 4⋅√3 ⎪  ⎪     7   ╲╱ 1 + 4⋅√3        \n",
       "⎢⎨x: - ─ - ────────────, y: - ─ + ────────────⎬, ⎨x: - ─ + ────────────, y: - \n",
       "⎢⎪     2        2             2        2      ⎪  ⎪     2        2             \n",
       "⎣⎩                                            ⎭  ⎩                            \n",
       "\n",
       "  __________    ⎫⎤\n",
       "╲╱ 1 + 4⋅√3    1⎪⎥\n",
       "──────────── - ─⎬⎥\n",
       "     2         2⎪⎥\n",
       "                ⎭⎦"
      ]
     },
     "execution_count": 55,
     "metadata": {},
     "output_type": "execute_result"
    }
   ],
   "source": [
    "# System of non-linear equations\n",
    "e1 = 4 + x + y\n",
    "e2 = x * y + 3 * y + sp.sqrt(3)\n",
    "sp.solve((e1, e2))"
   ]
  },
  {
   "cell_type": "markdown",
   "metadata": {},
   "source": [
    "solving inequality more complex, see https://docs.sympy.org/dev/modules/solvers/inequalities.html"
   ]
  },
  {
   "cell_type": "code",
   "execution_count": 56,
   "metadata": {},
   "outputs": [
    {
     "name": "stdout",
     "output_type": "stream",
     "text": [
      "False\n"
     ]
    }
   ],
   "source": [
    "A, B = sp.symbols('A B', commutative=False)\n",
    "print(A * B == B * A)"
   ]
  },
  {
   "cell_type": "code",
   "execution_count": 57,
   "metadata": {},
   "outputs": [],
   "source": [
    "%matplotlib inline"
   ]
  },
  {
   "cell_type": "code",
   "execution_count": 58,
   "metadata": {},
   "outputs": [
    {
     "data": {
      "text/markdown": [
       "$$ \\lim_{x \\to \\infty}\\left(\\frac{\\sin{\\left(x \\right)}}{x}\\right) \\; \\Longrightarrow \\; 0 $$"
      ],
      "text/plain": [
       "<IPython.core.display.Markdown object>"
      ]
     },
     "metadata": {},
     "output_type": "display_data"
    },
    {
     "data": {
      "text/markdown": [
       "$$ \\lim_{x \\to 0^-} \\frac{1}{x} \\; \\Longrightarrow \\; -\\infty $$"
      ],
      "text/plain": [
       "<IPython.core.display.Markdown object>"
      ]
     },
     "metadata": {},
     "output_type": "display_data"
    },
    {
     "data": {
      "text/markdown": [
       "$$ \\lim_{x \\to \\infty} \\left(1 + \\frac{1}{x}\\right)^{x} \\; \\Longrightarrow \\; e $$"
      ],
      "text/plain": [
       "<IPython.core.display.Markdown object>"
      ]
     },
     "metadata": {},
     "output_type": "display_data"
    },
    {
     "data": {
      "image/png": "[encoded data removed]",
      "text/latex": [
       "$\\displaystyle 4 x + 2 \\sin{\\left(x \\right)} \\cos{\\left(x \\right)}$"
      ],
      "text/plain": [
       "4⋅x + 2⋅sin(x)⋅cos(x)"
      ]
     },
     "metadata": {},
     "output_type": "display_data"
    },
    {
     "data": {
      "image/png": "[encoded data removed]",
      "text/latex": [
       "$\\displaystyle x - \\frac{\\sin{\\left(x \\right)}}{y^{2}}$"
      ],
      "text/plain": [
       "    sin(x)\n",
       "x - ──────\n",
       "       2  \n",
       "      y   "
      ]
     },
     "metadata": {},
     "output_type": "display_data"
    },
    {
     "data": {
      "image/png": "[encoded data removed]",
      "text/latex": [
       "$\\displaystyle \\left[ 1\\right]$"
      ],
      "text/plain": [
       "[1]"
      ]
     },
     "metadata": {},
     "output_type": "display_data"
    },
    {
     "data": {
      "image/png": "[encoded data removed]",
      "text/plain": [
       "<Figure size 640x480 with 1 Axes>"
      ]
     },
     "metadata": {},
     "output_type": "display_data"
    },
    {
     "data": {
      "text/plain": [
       "<sympy.plotting.plot.Plot at 0x269eba5a410>"
      ]
     },
     "execution_count": 58,
     "metadata": {},
     "output_type": "execute_result"
    }
   ],
   "source": [
    "x, y, z = sp.symbols('x y z')\n",
    "\n",
    "## Limits\n",
    "eqs = [sp.Limit(sp.sin(x)/x, x, sp.S.Infinity), \n",
    "       sp.Limit(1/x, x, 0, dir='-'), \n",
    "       sp.Limit((1 + 1/x) ** x, x, sp.S.Infinity)]\n",
    "for eq in eqs:\n",
    "    display(Markdown((f\"$$ {sp.latex(eq)}\"\n",
    "                      \" \\; \\Longrightarrow \\; \"\n",
    "                       f\"{sp.latex(eq.doit())} $$\")))\n",
    "\n",
    "## Derivative\n",
    "display(sp.Derivative(sp.sin(x) ** 2 + 2 * x ** 2, x).doit())\n",
    "\n",
    "# Partial derivative\n",
    "display(sp.Derivative(sp.sin(x) / y + y * x, y).doit())\n",
    "\n",
    "# Finding maximum and minimum (critical points)\n",
    "display(sp.solve(sp.Derivative(x**2 - 2*x - 15, x).doit()))\n",
    "\n",
    "sp.plot(x**2 - 2*x - 15)"
   ]
  },
  {
   "cell_type": "code",
   "execution_count": 59,
   "metadata": {},
   "outputs": [
    {
     "data": {
      "text/markdown": [
       "\n",
       "$$\\Large\n",
       "\\text{R}: \\frac{v^{2} \\sin{\\left(t \\right)}}{g} \\\\[0.1in]\n",
       "\\text{R\\_deriv}: \\frac{v^{2} \\cos{\\left(t \\right)}}{g}\n",
       "$$\n"
      ],
      "text/plain": [
       "<IPython.core.display.Markdown object>"
      ]
     },
     "metadata": {},
     "output_type": "display_data"
    },
    {
     "data": {
      "text/markdown": [
       "$$\\Large \\text{R\\_deriv}  \\left[ \\frac{\\pi}{2}, \\  \\frac{3 \\pi}{2}\\right] $$"
      ],
      "text/plain": [
       "<IPython.core.display.Markdown object>"
      ]
     },
     "metadata": {},
     "output_type": "display_data"
    },
    {
     "data": {
      "image/png": "[encoded data removed]",
      "text/plain": [
       "<Figure size 640x480 with 1 Axes>"
      ]
     },
     "metadata": {},
     "output_type": "display_data"
    },
    {
     "name": "stdout",
     "output_type": "stream",
     "text": [
      "Integrals - no interval:\n"
     ]
    },
    {
     "data": {
      "image/png": "[encoded data removed]",
      "text/latex": [
       "$\\displaystyle - x \\cos{\\left(x \\right)} + \\sin{\\left(x \\right)}$"
      ],
      "text/plain": [
       "-x⋅cos(x) + sin(x)"
      ]
     },
     "metadata": {},
     "output_type": "display_data"
    },
    {
     "name": "stdout",
     "output_type": "stream",
     "text": [
      "Integrals - with interval\n"
     ]
    },
    {
     "data": {
      "image/png": "[encoded data removed]",
      "text/latex": [
       "$\\displaystyle - \\cos{\\left(1 \\right)} + \\sin{\\left(1 \\right)}$"
      ],
      "text/plain": [
       "-cos(1) + sin(1)"
      ]
     },
     "metadata": {},
     "output_type": "display_data"
    }
   ],
   "source": [
    "# For equations of motion - throwing a ball at an angle theta, with velocity V, we find the range R\n",
    "theta = sp.Symbol('t')\n",
    "v = sp.Symbol('v')\n",
    "g = sp.Symbol('g')\n",
    "R = v**2 * sp.sin(theta) / g\n",
    "\n",
    "R_deriv = sp.Derivative(R, theta).doit() # alternative is R.diff(theta)\n",
    "md = f\"\"\"\n",
    "$$\\\\Large\n",
    "\\\\text{{R}}: {sp.latex(R)} \\\\\\[0.1in]\n",
    "\\\\text{{R\\_deriv}}: {sp.latex(R_deriv)}\n",
    "$$\n",
    "\"\"\"\n",
    "display(Markdown(md))\n",
    "\n",
    "ans = sp.solve(R_deriv, theta)\n",
    "display(Markdown(f\"$$\\\\Large \\\\text{{R\\_deriv}}  {sp.latex(ans)} $$\"))\n",
    "\n",
    "sp.plot(R.subs({v:10, g:9.81})) # just to have a graphical plot of the distance\n",
    "\n",
    "# Integrals - no interval\n",
    "print(\"Integrals - no interval:\")\n",
    "display(sp.Integral(sp.sin(x) * x, x).doit())\n",
    "\n",
    "# Integrals - with interval\n",
    "print(\"Integrals - with interval\")\n",
    "display(sp.Integral(sp.sin(x) * x, (x, 0, 1)).doit())"
   ]
  },
  {
   "cell_type": "code",
   "execution_count": 60,
   "metadata": {},
   "outputs": [
    {
     "data": {
      "image/png": "[encoded data removed]",
      "text/plain": [
       "<Figure size 640x480 with 1 Axes>"
      ]
     },
     "metadata": {},
     "output_type": "display_data"
    },
    {
     "data": {
      "text/plain": [
       "<sympy.plotting.plot.Plot at 0x269eb95c0d0>"
      ]
     },
     "execution_count": 60,
     "metadata": {},
     "output_type": "execute_result"
    }
   ],
   "source": [
    "sp.plot(R.subs({v:10, g:9.8}), \n",
    "        (theta, 0, 2*sp.pi), \n",
    "        ylabel='Range', xlabel='Theta', \n",
    "        title='Range vs Theta')"
   ]
  },
  {
   "cell_type": "code",
   "execution_count": 61,
   "metadata": {},
   "outputs": [
    {
     "data": {
      "text/markdown": [
       "\n",
       "$$\n",
       "\\text{The partial\\_derivative of the given expression with respect to } \\theta \\text{ is: } \\\\ \\\\\n",
       "\\Large \\frac{v^{2} \\cos{\\left(t \\right)}}{g}\n",
       "$$\n"
      ],
      "text/plain": [
       "<IPython.core.display.Markdown object>"
      ]
     },
     "metadata": {},
     "output_type": "display_data"
    }
   ],
   "source": [
    "# Define text with LaTeX for size adjustment\n",
    "markdown_text = f\"\"\"\n",
    "$$\n",
    "\\\\text{{The partial\\_derivative of the given expression with respect to }} \\\\theta \\\\text{{ is: }} \\\\\\\\ \\\\\\\\\n",
    "\\\\Large {sp.latex(R_deriv)}\n",
    "$$\n",
    "\"\"\"\n",
    "\n",
    "# Display the result with additional text and adjusted size\n",
    "display(Markdown(markdown_text))\n"
   ]
  },
  {
   "cell_type": "code",
   "execution_count": 62,
   "metadata": {},
   "outputs": [
    {
     "data": {
      "text/latex": [
       "$\\displaystyle \\left[\\begin{matrix}1 & 2\\\\3 & 4\\end{matrix}\\right]$"
      ],
      "text/plain": [
       "⎡1  2⎤\n",
       "⎢    ⎥\n",
       "⎣3  4⎦"
      ]
     },
     "metadata": {},
     "output_type": "display_data"
    },
    {
     "data": {
      "text/latex": [
       "$\\displaystyle \\left[\\begin{matrix}d & 0 & 0 & a\\\\0 & e & 0 & b\\\\0 & 0 & f & c\\\\0 & 0 & 0 & 1\\end{matrix}\\right]$"
      ],
      "text/plain": [
       "⎡d  0  0  a⎤\n",
       "⎢          ⎥\n",
       "⎢0  e  0  b⎥\n",
       "⎢          ⎥\n",
       "⎢0  0  f  c⎥\n",
       "⎢          ⎥\n",
       "⎣0  0  0  1⎦"
      ]
     },
     "metadata": {},
     "output_type": "display_data"
    },
    {
     "data": {
      "text/latex": [
       "$\\displaystyle \\left[\\begin{matrix}\\frac{1}{d} & 0 & 0 & - \\frac{a}{d}\\\\0 & \\frac{1}{e} & 0 & - \\frac{b}{e}\\\\0 & 0 & \\frac{1}{f} & - \\frac{c}{f}\\\\0 & 0 & 0 & 1\\end{matrix}\\right]$"
      ],
      "text/plain": [
       "⎡1        -a ⎤\n",
       "⎢─  0  0  ───⎥\n",
       "⎢d         d ⎥\n",
       "⎢            ⎥\n",
       "⎢   1     -b ⎥\n",
       "⎢0  ─  0  ───⎥\n",
       "⎢   e      e ⎥\n",
       "⎢            ⎥\n",
       "⎢      1  -c ⎥\n",
       "⎢0  0  ─  ───⎥\n",
       "⎢      f   f ⎥\n",
       "⎢            ⎥\n",
       "⎣0  0  0   1 ⎦"
      ]
     },
     "metadata": {},
     "output_type": "display_data"
    }
   ],
   "source": [
    "# create a matrix with sympy using symbols a b c d e f g\n",
    "a, b, c, d, e, f, g = sp.symbols('a b c d e f g')\n",
    "A = sp.Matrix([[1, 0, 0, a], \n",
    "               [0, 1, 0, b], \n",
    "               [0, 0, 1, c],\n",
    "               [0, 0, 0, 1]])\n",
    "B = sp.Matrix([[d, 0, 0, 0], \n",
    "               [0, e, 0, 0], \n",
    "               [0, 0, f, 0],\n",
    "               [0, 0, 0, 1]])\n",
    "\n",
    "display(sp.Matrix(2, 2, [1, 2, 3, 4]))\n",
    "display(A*B)\n",
    "display((A*B).inv())\n"
   ]
  }
 ],
 "metadata": {
  "kernelspec": {
   "display_name": "py310_2env",
   "language": "python",
   "name": "python3"
  },
  "language_info": {
   "codemirror_mode": {
    "name": "ipython",
    "version": 3
   },
   "file_extension": ".py",
   "mimetype": "text/x-python",
   "name": "python",
   "nbconvert_exporter": "python",
   "pygments_lexer": "ipython3",
   "version": "3.10.13"
  }
 },
 "nbformat": 4,
 "nbformat_minor": 2
}
