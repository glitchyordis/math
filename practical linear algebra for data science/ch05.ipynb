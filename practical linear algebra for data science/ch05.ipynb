{
 "cells": [
  {
   "cell_type": "code",
   "execution_count": null,
   "metadata": {},
   "outputs": [],
   "source": [
    "import numpy as np\n",
    "import matplotlib.pyplot as plt\n",
    "\n",
    "# for null spaces\n",
    "import scipy.linalg\n",
    "\n",
    "# a pretty-looking matrix from scipy\n",
    "from scipy.linalg import toeplitz\n",
    "\n",
    "\n",
    "# NOTE: these lines define global figure properties used for publication.\n",
    "import matplotlib_inline.backend_inline\n",
    "matplotlib_inline.backend_inline.set_matplotlib_formats('svg') # print figures in svg format\n",
    "plt.rcParams.update({'font.size':14}) # set global font size"
   ]
  },
  {
   "cell_type": "markdown",
   "metadata": {},
   "source": [
    "# Visualizing matrices as images"
   ]
  },
  {
   "cell_type": "code",
   "execution_count": null,
   "metadata": {},
   "outputs": [],
   "source": [
    "A = np.random.randn(3, 4)\n",
    "B = np.random.randn(100, 100)\n",
    "C = -toeplitz(np.arange(8), np.arange(10))\n",
    "\n",
    "fig, axs = plt.subplots(1, 3, figsize=(10,3))\n",
    "axs[0].imshow(A, cmap=\"gray\")\n",
    "axs[1].imshow(B, cmap=\"gray\")\n",
    "axs[2].imshow(C, cmap = \"gray\")\n",
    "\n",
    "for i in range(3):\n",
    "    axs[i].axis(\"off\")\n",
    "plt.tight_layout()\n",
    "# plt.savefig('Figure_05_01.png',dpi=300)\n",
    "plt.show()"
   ]
  },
  {
   "cell_type": "markdown",
   "metadata": {},
   "source": [
    "# Slicing out rows and columns"
   ]
  },
  {
   "cell_type": "code",
   "execution_count": null,
   "metadata": {},
   "outputs": [],
   "source": [
    "A = np.reshape(np.arange(1,10), (3,3))\n",
    "print(f\"{A = }\")"
   ]
  },
  {
   "cell_type": "code",
   "execution_count": null,
   "metadata": {},
   "outputs": [],
   "source": [
    "# get the n-th row\n",
    "print(f\"{A[1,:] = }\")\n",
    "\n",
    "# note that to extract only one row, you don't need the column indices. \n",
    "print(f\"{A[1] = }\")\n",
    "# But that's potentially confusing, so I recommend avoiding that notation.\n",
    "\n",
    "# get the n-th column, Note that it prints out as a \"row\" even thought it's a column of the matrix\n",
    "print(f\"{A[:,1] = }\")\n",
    "\n",
    "# multiple rows\n",
    "print(f\"{A[0:2,1] = }\")\n",
    "\n",
    "# multiple columns\n",
    "print(f\"\\nA[:,1:]:\\n{A[:,1:]}\")"
   ]
  },
  {
   "cell_type": "markdown",
   "metadata": {},
   "source": [
    "# Some special matrices"
   ]
  },
  {
   "cell_type": "code",
   "execution_count": null,
   "metadata": {},
   "outputs": [],
   "source": [
    "# square \n",
    "M1 = np.random.permutation(16).reshape(4,4)\n",
    "\n",
    "# upper tri\n",
    "M2 = np.triu(np.random.randint(10,20,(4,3)))\n",
    "\n",
    "# lower tri\n",
    "M3 = np.tril(np.random.randint(8,20,(4,3)))\n",
    "\n",
    "# diagonal\n",
    "M4 = np.diag(np.random.randint(0,6,size=8))\n",
    "\n",
    "# identity\n",
    "M5 = np.eye(4, dtype=int)\n",
    "\n",
    "# zeros\n",
    "M6 = np.zeros((4,5), dtype=int)\n",
    "\n",
    "matrices = [M1, M2, M3, M4, M5, M6]\n",
    "Mlabels = ['Square','Upper-triangular','Lower-triangular','Diagonal','Identity','Zeros']\n",
    "\n",
    "fig, axs = plt.subplots(2,3, figsize=(12,6))\n",
    "axs = axs.flatten()\n",
    "\n",
    "for idx, m in enumerate(matrices):\n",
    "    axs[idx].imshow(m, cmap=\"gray\", origin=\"upper\",\n",
    "                    vmin=np.min(m), vmax=np.max(m))\n",
    "    axs[idx].set(xticks=[], yticks=[])\n",
    "    axs[idx].set_title(Mlabels[idx])\n",
    "\n",
    "    for (j,i), num in np.ndenumerate(m):\n",
    "        axs[idx].text(i, j, num, color=[.8,.8,.8], ha=\"center\", va=\"center\", fontweight=\"bold\")\n",
    "\n",
    "# plt.savefig('Figure_05_02.png',dpi=300)\n",
    "plt.tight_layout()\n",
    "plt.show()\n"
   ]
  },
  {
   "cell_type": "markdown",
   "metadata": {},
   "source": [
    "# Geometry of matrix-vector multiplication"
   ]
  },
  {
   "cell_type": "code",
   "execution_count": null,
   "metadata": {},
   "outputs": [],
   "source": [
    "M = np.array([[2,3], [2,1]])\n",
    "x = np.array([[1, 1.5]]).T\n",
    "Mx = M@x\n",
    "\n",
    "v = np.array([[1.5, 1]]).T\n",
    "Mv = M@v\n",
    "\n",
    "plt.figure(figsize=(6,6))\n",
    "plt.plot([0, x[0, 0]], [0, x[1, 0]], \"k\", linewidth=4, label=\"x\")\n",
    "plt.plot([0, Mx[0, 0]], [0, Mx[1, 0]],\"--\", linewidth=3, color=[.7, .7, .7], label=\"Mx\")\n",
    "plt.xlim([-7, 7])\n",
    "plt.ylim([-7, 7])\n",
    "plt.legend()\n",
    "plt.grid()\n",
    "plt.show()\n",
    "\n",
    "plt.figure(figsize=(6,6))\n",
    "plt.plot([0,v[0,0]],[0,v[1,0]],'k',linewidth=4,label='v')\n",
    "plt.plot([0,Mv[0,0]],[0,Mv[1,0]],'--',linewidth=3,color=[.7,.7,.7],label='Mv')\n",
    "plt.xlim([-7,7])\n",
    "plt.ylim([-7,7])\n",
    "plt.legend()\n",
    "plt.grid()\n",
    "# plt.savefig('Figure_05_05b.png',dpi=300)\n",
    "plt.show()"
   ]
  },
  {
   "cell_type": "markdown",
   "metadata": {},
   "source": [
    "# Ex2"
   ]
  },
  {
   "cell_type": "markdown",
   "metadata": {},
   "source": [
    "This and the following exercise focus on slicing matrices to obtain submatrices. Start by creating matrix in Figure 5-6, and use Python slicing to extract the submatrix comprising the first five rows and five columns. Let’s call this matrix . Try to reproduce Figure 5-6, but if you are struggling with the Python visualization coding, then just focus on extracting the submatrix correctly."
   ]
  },
  {
   "cell_type": "code",
   "execution_count": null,
   "metadata": {},
   "outputs": [],
   "source": [
    "# Create the matrix\n",
    "C = np.arange(100).reshape((10,10))\n",
    "\n",
    "# extract submatrix\n",
    "C_1 = C[0:5:1,0:5:1]\n",
    "\n",
    "# here's what the matrices look like\n",
    "print(C), print(' ')\n",
    "print(C_1)\n",
    "\n",
    "# visualize the matrices as maps\n",
    "_,axs = plt.subplots(1,2,figsize=(10,5))\n",
    "\n",
    "axs[0].imshow(C,cmap='gray',origin='upper',vmin=0,vmax=np.max(C))\n",
    "axs[0].plot([4.5,4.5],[-.5,9.5],'w--')\n",
    "axs[0].plot([-.5,9.5],[4.5,4.5],'w--')\n",
    "axs[0].set_title('Original matrix')\n",
    "# text labels\n",
    "for (j,i),num in np.ndenumerate(C):\n",
    "  axs[0].text(i,j,num,color=[.8,.8,.8],ha='center',va='center')\n",
    "\n",
    "\n",
    "axs[1].imshow(C_1,cmap='gray',origin='upper',vmin=0,vmax=np.max(C))\n",
    "axs[1].set_title('Submatrix')\n",
    "# text labels\n",
    "for (j,i),num in np.ndenumerate(C_1):\n",
    "  axs[1].text(i,j,num,color=[.8,.8,.8],ha='center',va='center')\n",
    "\n",
    "\n",
    "# plt.savefig('Figure_05_06.png',dpi=300)\n",
    "plt.show()"
   ]
  },
  {
   "cell_type": "markdown",
   "metadata": {},
   "source": [
    "# EX3\n"
   ]
  },
  {
   "cell_type": "markdown",
   "metadata": {},
   "source": [
    "Expand this code to extract the other four blocks. Then create a new matrix with those blocks reorganized according to Figure 5-7."
   ]
  },
  {
   "cell_type": "code",
   "execution_count": null,
   "metadata": {},
   "outputs": [],
   "source": [
    "# cut it into blocks\n",
    "C_1 = C[0:5:1,0:5:1]\n",
    "C_2 = C[0:5:1,5:10:1]\n",
    "C_3 = C[5:10:1,0:5:1]\n",
    "C_4 = C[5:10:1,5:10:1]\n",
    "\n",
    "# rearrange the blocks\n",
    "newMatrix = np.vstack( (np.hstack((C_4,C_3)),\n",
    "                        np.hstack((C_2,C_1))) )\n",
    "\n",
    "\n",
    "# visualize the matrices\n",
    "_,axs = plt.subplots(1,2,figsize=(10,5))\n",
    "\n",
    "axs[0].imshow(C,cmap='gray',origin='upper',vmin=0,vmax=np.max(C))\n",
    "axs[0].plot([4.5,4.5],[-.5,9.5],'w--')\n",
    "axs[0].plot([-.5,9.5],[4.5,4.5],'w--')\n",
    "axs[0].set_title('Original matrix')\n",
    "# text labels\n",
    "for (j,i),num in np.ndenumerate(C):\n",
    "  axs[0].text(i,j,num,color=[.8,.8,.8],ha='center',va='center')\n",
    "\n",
    "\n",
    "axs[1].imshow(newMatrix,cmap='gray',origin='upper',vmin=0,vmax=np.max(C))\n",
    "axs[1].plot([4.5,4.5],[-.5,9.5],'w--')\n",
    "axs[1].plot([-.5,9.5],[4.5,4.5],'w--')\n",
    "axs[1].set_title('Block-shifted')\n",
    "# text labels\n",
    "for (j,i),num in np.ndenumerate(newMatrix):\n",
    "  axs[1].text(i,j,num,color=[.8,.8,.8],ha='center',va='center')\n",
    "\n",
    "# plt.savefig('Figure_05_07.png',dpi=300)\n",
    "plt.show()\n",
    "     \n"
   ]
  },
  {
   "cell_type": "markdown",
   "metadata": {},
   "source": [
    "# Exercise 8"
   ]
  },
  {
   "cell_type": "markdown",
   "metadata": {},
   "source": [
    "In this exercise, you will write a Python function that checks whether a matrix is symmetric. It should take a matrix as input, and should output a boolean True if the matrix is symmetric or False if the matrix is nonsymmetric. Keep in mind that small computer rounding/precision errors can make “equal” matrices appear unequal. Therefore, you will need to test for equality with some reasonable tolerance. Test the function on symmetric and nonsymmetric matrices."
   ]
  },
  {
   "cell_type": "code",
   "execution_count": null,
   "metadata": {},
   "outputs": [],
   "source": [
    "def isMatrixSymmetric(S):\n",
    "    # note: There are many other ways you could solve this. \n",
    "    # If you want to explore different methods, consider np.all() or np.isclose()\n",
    "    diff = S - S.T\n",
    "    \n",
    "    # check whether sum of squared errors (SSE) is smaller than a threshold\n",
    "    sse = np.sum(diff**2)\n",
    "\n",
    "    # output TRUE if sse is tiny; FALSE means the matrix is asymmetric\n",
    "    return sse<10**-15\n",
    "\n",
    "\n",
    "A = np.random.randn(4,4)\n",
    "AtA= A.T@A\n",
    "\n",
    "print(f\"A:\\n{A}\\n{isMatrixSymmetric(A)}\")\n",
    "print(f\"\\nAtA:\\n{AtA}\\n{isMatrixSymmetric(AtA)}\")\n"
   ]
  },
  {
   "cell_type": "markdown",
   "metadata": {},
   "source": [
    "# Exercise 9"
   ]
  },
  {
   "cell_type": "markdown",
   "metadata": {},
   "source": [
    "I mentioned that there is an additive method for creating a symmetric matrix from a nonsymmetric square matrix. The method is quite simple: average the matrix with its transpose. Implement this algorithm in Python and confirm that the result really is symmetric. (Hint: you can use the function you wrote in the previous exercise!)"
   ]
  },
  {
   "cell_type": "code",
   "execution_count": null,
   "metadata": {},
   "outputs": [],
   "source": [
    "A = np.random.randn(4, 4)\n",
    "AtA = (A + A.T)/2\n",
    "\n",
    "print(isMatrixSymmetric(A))\n",
    "print(isMatrixSymmetric(AtA))"
   ]
  },
  {
   "cell_type": "markdown",
   "metadata": {},
   "source": [
    "# Exercise 10"
   ]
  },
  {
   "cell_type": "markdown",
   "metadata": {},
   "source": [
    "Repeat the second part of Exercise 3-3 (the two vectors in $\\mathbb{R}^3$), but use matrix-vector multiplication instead of vector-scalar multiplication. That is, compute $\\mathbf{As}$ instead of $\\sigma_1 \\mathbf{v}_1 + \\sigma_2 \\mathbf{v}_2$."
   ]
  },
  {
   "cell_type": "code",
   "execution_count": null,
   "metadata": {},
   "outputs": [],
   "source": [
    "import plotly.graph_objects as go\n",
    "A = np.array([[3,0],\n",
    "              [5,2],\n",
    "              [1,2]])\n",
    "\n",
    "xlim = [-4,4]\n",
    "scalars = np.random.uniform(low=xlim[0],high=xlim[1],size=(100,2))\n",
    "\n",
    "points = scalars@A.T\n",
    "\n",
    "fig = go.Figure( data=[go.Scatter3d(x=points[:,0], y=points[:,1], z=points[:,2], mode='markers')])\n",
    "fig.show()"
   ]
  },
  {
   "cell_type": "code",
   "execution_count": null,
   "metadata": {},
   "outputs": [],
   "source": [
    "A = np.array( [ [3,1.5],\n",
    "                [5,2.5],\n",
    "                [1, .5] ] )\n",
    "\n",
    "points = scalars@A.T\n",
    "\n",
    "fig = go.Figure( data=[go.Scatter3d(x=points[:,0], y=points[:,1], z=points[:,2], mode='markers')])\n",
    "fig.show()"
   ]
  },
  {
   "cell_type": "markdown",
   "metadata": {},
   "source": [
    "# Exercise 11"
   ]
  },
  {
   "cell_type": "markdown",
   "metadata": {},
   "source": [
    "Diagonal matrices have many interesting properties that make them useful to work with. In this exercise, you will learn about two:\n",
    "- Premultiplying by a diagonal matrix scales the rows of the right matrix by the corresponding diagonal elements.\n",
    "- Postmultiplying by a diagonal matrix scales the columns of the left matrix by the corresponding diagonal elements.\n",
    "\n",
    "This fact is used in several computing correlation matrices (Chapter 7) and diagonalizing a matrix (Chapters 13 and 14).\n",
    "\n",
    "Let’s explore an implication of this property. Start by creating three $4 \\times 4$ matrices: \n",
    "- a matrix of all ones (hint: np.ones()); \n",
    "- a diagonal matrix where the diagonal elements are 1, 4, 9, and 16; \n",
    "- and a diagonal matrix equal to the square root of the previous diagonal matrix.\n",
    "\n",
    "Next, print out the pre- and postmultiplied ones matrix by the first diagonal matrix.\n",
    "Finally, premultiply and postmultiply the ones matrix by the square root of the diagonal matrix. You’ll get the following:\n",
    "- Notice that the rows and the columns are scaled such that the (i,j)th element in the matrix is multiplied by the product of the ith and jth diagonal elements. (In fact, we’ve created a multiplication table!)"
   ]
  },
  {
   "cell_type": "code",
   "execution_count": null,
   "metadata": {},
   "outputs": [],
   "source": [
    "A = np.ones((4, 4))\n",
    "B = np.diag([1,4,9,16])\n",
    "C = np.sqrt(B)\n",
    "\n",
    "print(f\"A:\\n{A}\\n\\nB:\\n{B}\\n\\nC:\\n{C}\\n\")\n",
    "\n",
    "print(f\"AB:\\n{A@B}\\n\\nBA:\\n{B@A}\")\n",
    "\n",
    "print(f\"\\nCAC:\\n{C@A@C}\")"
   ]
  },
  {
   "cell_type": "markdown",
   "metadata": {},
   "source": [
    "# Exercise 12"
   ]
  },
  {
   "cell_type": "markdown",
   "metadata": {},
   "source": [
    "Another fun fact: matrix multiplication is the same thing as Hadamard multiplication for two diagonal matrices. Figure out why this is using paper and pencil with two diagonal matrices, and then illustrate it in Python code."
   ]
  },
  {
   "cell_type": "code",
   "execution_count": null,
   "metadata": {},
   "outputs": [],
   "source": [
    "# Create two diagonal matrices\n",
    "N = 5\n",
    "D1 = np.diag( np.random.randn(N) )\n",
    "D2 = np.diag( np.random.randn(N) )\n",
    "\n",
    "# two forms of multiplication\n",
    "hadamard = D1*D2\n",
    "standard = D1@D2\n",
    "\n",
    "print(f\"hadamard:\\n{hadamard}\\n\")\n",
    "print(f\"standard:\\n{standard}\")\n",
    "\n",
    "# compare them\n",
    "hadamard - standard"
   ]
  },
  {
   "cell_type": "code",
   "execution_count": null,
   "metadata": {},
   "outputs": [],
   "source": []
  }
 ],
 "metadata": {
  "kernelspec": {
   "display_name": "Python 3",
   "language": "python",
   "name": "python3"
  },
  "language_info": {
   "codemirror_mode": {
    "name": "ipython",
    "version": 3
   },
   "file_extension": ".py",
   "mimetype": "text/x-python",
   "name": "python",
   "nbconvert_exporter": "python",
   "pygments_lexer": "ipython3",
   "version": "3.10.13"
  }
 },
 "nbformat": 4,
 "nbformat_minor": 2
}
