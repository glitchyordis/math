{
 "cells": [
  {
   "cell_type": "code",
   "execution_count": null,
   "metadata": {},
   "outputs": [],
   "source": [
    "import numpy as np\n",
    "import matplotlib.pyplot as plt\n",
    "\n",
    "# for null spaces\n",
    "import scipy.linalg\n",
    "\n",
    "# a pretty-looking matrix from scipy\n",
    "from scipy.linalg import toeplitz\n",
    "\n",
    "# NOTE: these lines define global figure properties used for publication.\n",
    "import matplotlib_inline.backend_inline\n",
    "matplotlib_inline.backend_inline.set_matplotlib_formats('svg') # print figures in svg format\n",
    "plt.rcParams.update({'font.size':14}) # set global font size"
   ]
  },
  {
   "cell_type": "markdown",
   "metadata": {},
   "source": [
    "# Ex2"
   ]
  },
  {
   "cell_type": "markdown",
   "metadata": {},
   "source": [
    "This and the following exercise focus on slicing matrices to obtain submatrices. Start by creating matrix in Figure 5-6, and use Python slicing to extract the submatrix comprising the first five rows and five columns. Let’s call this matrix . Try to reproduce Figure 5-6."
   ]
  },
  {
   "cell_type": "code",
   "execution_count": null,
   "metadata": {},
   "outputs": [],
   "source": [
    "# Create the matrix\n",
    "C = np.arange(100).reshape((10,10))\n",
    "\n",
    "# extract submatrix\n",
    "C_1 = C[0:5:1,0:5:1]\n",
    "\n",
    "# here's what the matrices look like\n",
    "print(C), print(' ')\n",
    "print(C_1)\n",
    "\n",
    "# visualize the matrices as maps\n",
    "_,axs = plt.subplots(1,2,figsize=(10,5))\n",
    "\n",
    "axs[0].imshow(C,cmap='gray',origin='upper',vmin=0,vmax=np.max(C))\n",
    "axs[0].plot([4.5,4.5],[-.5,9.5],'w--')\n",
    "axs[0].plot([-.5,9.5],[4.5,4.5],'w--')\n",
    "axs[0].set_title('Original matrix')\n",
    "# text labels\n",
    "for (j,i),num in np.ndenumerate(C):\n",
    "  axs[0].text(i,j,num,color=[.8,.8,.8],ha='center',va='center')\n",
    "\n",
    "axs[1].imshow(C_1,cmap='gray',origin='upper',vmin=0,vmax=np.max(C))\n",
    "axs[1].set_title('Submatrix')\n",
    "# text labels\n",
    "for (j,i),num in np.ndenumerate(C_1):\n",
    "  axs[1].text(i,j,num,color=[.8,.8,.8],ha='center',va='center')\n",
    "\n",
    "# plt.savefig('Figure_05_06.png',dpi=300)\n",
    "plt.show()"
   ]
  },
  {
   "cell_type": "markdown",
   "metadata": {},
   "source": [
    "# EX3\n"
   ]
  },
  {
   "cell_type": "markdown",
   "metadata": {},
   "source": [
    "Expand this code to extract the other four blocks. Then create a new matrix with those blocks reorganized according to Figure 5-7."
   ]
  },
  {
   "cell_type": "code",
   "execution_count": null,
   "metadata": {},
   "outputs": [],
   "source": [
    "# cut it into blocks\n",
    "C_1 = C[0:5:1,0:5:1]\n",
    "C_2 = C[0:5:1,5:10:1]\n",
    "C_3 = C[5:10:1,0:5:1]\n",
    "C_4 = C[5:10:1,5:10:1]\n",
    "\n",
    "# rearrange the blocks\n",
    "newMatrix = np.vstack( (np.hstack((C_4,C_3)),\n",
    "                        np.hstack((C_2,C_1))) )\n",
    "\n",
    "# visualize the matrices\n",
    "_,axs = plt.subplots(1,2,figsize=(10,5))\n",
    "\n",
    "axs[0].imshow(C,cmap='gray',origin='upper',vmin=0,vmax=np.max(C))\n",
    "axs[0].plot([4.5,4.5],[-.5,9.5],'w--')\n",
    "axs[0].plot([-.5,9.5],[4.5,4.5],'w--')\n",
    "axs[0].set_title('Original matrix')\n",
    "# text labels\n",
    "for (j,i),num in np.ndenumerate(C):\n",
    "  axs[0].text(i,j,num,color=[.8,.8,.8],ha='center',va='center')\n",
    "\n",
    "axs[1].imshow(newMatrix,cmap='gray',origin='upper',vmin=0,vmax=np.max(C))\n",
    "axs[1].plot([4.5,4.5],[-.5,9.5],'w--')\n",
    "axs[1].plot([-.5,9.5],[4.5,4.5],'w--')\n",
    "axs[1].set_title('Block-shifted')\n",
    "# text labels\n",
    "for (j,i),num in np.ndenumerate(newMatrix):\n",
    "  axs[1].text(i,j,num,color=[.8,.8,.8],ha='center',va='center')\n",
    "\n",
    "# plt.savefig('Figure_05_07.png',dpi=300)\n",
    "plt.show()\n",
    "     \n"
   ]
  }
 ],
 "metadata": {
  "kernelspec": {
   "display_name": "Python 3",
   "language": "python",
   "name": "python3"
  },
  "language_info": {
   "codemirror_mode": {
    "name": "ipython",
    "version": 3
   },
   "file_extension": ".py",
   "mimetype": "text/x-python",
   "name": "python",
   "nbconvert_exporter": "python",
   "pygments_lexer": "ipython3",
   "version": "3.10.13"
  }
 },
 "nbformat": 4,
 "nbformat_minor": 2
}
