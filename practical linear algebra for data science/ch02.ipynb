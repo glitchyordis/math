{
 "cells": [
  {
   "cell_type": "code",
   "execution_count": null,
   "metadata": {},
   "outputs": [],
   "source": [
    "import numpy as np\n",
    "import matplotlib.pyplot as plt\n",
    "from rich import print as rprint"
   ]
  },
  {
   "cell_type": "code",
   "execution_count": null,
   "metadata": {},
   "outputs": [],
   "source": [
    "import matplotlib_inline.backend_inline\n",
    "matplotlib_inline.backend_inline.set_matplotlib_formats(\"svg\")\n",
    "plt.rcParams.update({\"font.size\":14})"
   ]
  },
  {
   "cell_type": "markdown",
   "metadata": {},
   "source": [
    "# Geometry of vectors"
   ]
  },
  {
   "cell_type": "code",
   "execution_count": null,
   "metadata": {},
   "outputs": [],
   "source": [
    "# create a vector\n",
    "v = np.array([-1,2])\n",
    "\n",
    "# plot that vector (and a dot for the tail)\n",
    "plt.arrow(0,0,v[0],v[1],head_width=.5,width=.1)\n",
    "plt.plot(0,0,'ko',markerfacecolor='k',markersize=7)\n",
    "\n",
    "# add axis lines\n",
    "plt.plot([-3,3],[0,0],'--',color=[.8,.8,.8],zorder=-1) # zorder allows layering like photoshop layers\n",
    "plt.plot([0,0],[-3,3],'--',color=[.8,.8,.8],zorder=-1)\n",
    "\n",
    "# make the plot look nicer\n",
    "plt.axis('square')\n",
    "plt.axis([-3,3,-3,3])\n",
    "plt.xlabel('$v_0$')\n",
    "plt.ylabel('$v_1$')\n",
    "plt.title('Vector v in standard position')\n",
    "plt.show()"
   ]
  },
  {
   "cell_type": "code",
   "execution_count": null,
   "metadata": {},
   "outputs": [],
   "source": [
    "# A range of starting positions\n",
    "startPos = [\n",
    "            [0,0],\n",
    "            [-1,-1],\n",
    "            [1.5,-2]\n",
    "            ]\n",
    "\n",
    "# create a new figure\n",
    "fig = plt.figure(figsize=(6,6))\n",
    "\n",
    "for s in startPos:\n",
    "\n",
    "  # plot that vector (and a dot for the tail)\n",
    "  # note that plt.arrow automatically adds an offset to the third/fourth inputs\n",
    "  plt.arrow(s[0],s[1],v[0],v[1],head_width=.5,width=.1,color='black')\n",
    "  plt.plot(s[0],s[1],'ko',markerfacecolor='k',markersize=7)\n",
    "\n",
    "  # indicate the vector in its standard position\n",
    "  if s==[0,0]:\n",
    "    plt.text(v[0]+.1,v[1]+.2,'\"Standard pos.\"')\n",
    "\n",
    "# add axis lines\n",
    "plt.plot([-3,3],[0,0],'--',color=[.8,.8,.8],zorder=-1)\n",
    "plt.plot([0,0],[-3,3],'--',color=[.8,.8,.8],zorder=-1)\n",
    "\n",
    "# make the plot look nicer\n",
    "plt.axis('square')\n",
    "plt.axis([-3,3,-3,3])\n",
    "plt.xlabel('$v_0$')\n",
    "plt.ylabel('$v_1$')\n",
    "plt.title('Vector $\\mathbf{v}$ in various locations')\n",
    "# plt.savefig('Figure_02_01.png',dpi=300) # write out the fig to a file\n",
    "plt.show()"
   ]
  },
  {
   "cell_type": "markdown",
   "metadata": {},
   "source": [
    "# Vector-scalar multiplication"
   ]
  },
  {
   "cell_type": "code",
   "execution_count": null,
   "metadata": {},
   "outputs": [],
   "source": [
    "# a scalar\n",
    "s = 3.5\n",
    "\n",
    "# a vector\n",
    "b = np.array([3,4])\n",
    "\n",
    "# plot\n",
    "plt.plot([0,b[0]],[0,b[1]],'m--',linewidth=3,label='b')\n",
    "plt.plot([0,s*b[0]],[0,s*b[1]],'k:',linewidth=3,label='sb')\n",
    "\n",
    "plt.grid()\n",
    "plt.axis('square')\n",
    "plt.axis([-6,6,-6,6])\n",
    "plt.legend()\n",
    "plt.show()"
   ]
  },
  {
   "cell_type": "code",
   "execution_count": null,
   "metadata": {},
   "outputs": [],
   "source": [
    "# Effects of different scalars\n",
    "\n",
    "# a list of scalars:\n",
    "scalars = [ 1, 2, 1/3, 0, -2/3 ]\n",
    "\n",
    "baseVector = np.array([ .75,1 ])\n",
    "\n",
    "# create a figure\n",
    "fig,axs = plt.subplots(1,len(scalars),figsize=(12,3))\n",
    "i = 0 # axis counter\n",
    "\n",
    "for s in scalars:\n",
    "\n",
    "  # compute the scaled vector\n",
    "  v = s*baseVector\n",
    "\n",
    "  # plot it\n",
    "  axs[i].arrow(0,0,baseVector[0],baseVector[1],head_width=.3,width=.1,color='k',length_includes_head=True)\n",
    "  axs[i].arrow(.1,0,v[0],v[1],head_width=.3,width=.1,color=[.75,.75,.75],length_includes_head=True)\n",
    "  axs[i].grid(linestyle='--')\n",
    "  axs[i].axis('square')\n",
    "  axs[i].axis([-2.5,2.5,-2.5,2.5])\n",
    "  axs[i].set(xticks=np.arange(-2,3), yticks=np.arange(-2,3))\n",
    "  axs[i].set_title(f'$\\sigma$ = {s:.2f}')\n",
    "  i+=1 # update axis counter\n",
    "\n",
    "plt.tight_layout()\n",
    "# plt.savefig('Figure_02_03.png',dpi=300)\n",
    "plt.show()\n"
   ]
  },
  {
   "cell_type": "markdown",
   "metadata": {},
   "source": [
    "# dot product is distributve"
   ]
  },
  {
   "cell_type": "code",
   "execution_count": null,
   "metadata": {},
   "outputs": [],
   "source": [
    "v = np.array([1,2,3])\n",
    "w = np.array([3,5,8])\n",
    "u = np.array([13,21,34])\n",
    "\n",
    "res1 = np.dot(v,w+u)\n",
    "res2 = np.dot(v,w)+np.dot(v,u)\n",
    "print(f\"{res1 = }\\n{res2 = }\")\n",
    "assert res1 == res2\n",
    "\n",
    "try:\n",
    "    v1 = np.array([v.tolist()])\n",
    "    w1 = np.array([w.tolist()])\n",
    "    u1 = np.array([u.tolist()])\n",
    "    print(f\"\\n{v1 = }\\n{w1 = }\\n{u1 = }\\ncalculating np.dot(v1, w1+u1)\")\n",
    "    np.dot(v1, w1+u1)\n",
    "except Exception as e:\n",
    "    msg = (\"[bright_yellow]Note[/bright_yellow]\",\n",
    "           f\"\\n{e = }\",\n",
    "           \"\\nthis error is due to the nature of np.dot. \\nyou can perfrom vector dot by using 1D array else it try to do \\nmatrixmult\",\n",
    "           \"which will fail since the inner dimension would disagree. May convert to 1D using .flatten()\")\n",
    "    rprint(*msg)\n",
    "    \n",
    "\n",
    "np.dot(v1.flatten(), (w1+u1).flatten())\n"
   ]
  },
  {
   "cell_type": "markdown",
   "metadata": {},
   "source": [
    "# Excercise 1\n",
    "\n",
    "write your own code to produce Figure 2-2."
   ]
  },
  {
   "cell_type": "code",
   "execution_count": null,
   "metadata": {},
   "outputs": [],
   "source": [
    "v = np.array([1, 2])\n",
    "w = np.array([4, -6])\n",
    "u = v+w\n",
    "\n",
    "plt.figure(figsize=(6,6))\n",
    "\n",
    "a1 = plt.arrow(0,0,v[0],v[1],head_width=.3,width=.1,color='k',length_includes_head=True)\n",
    "a2 = plt.arrow(v[0],v[1],w[0],w[1],head_width=.3,width=.1,color=[.5,.5,.5],length_includes_head=True)\n",
    "a3 = plt.arrow(0,0,u[0],u[1],head_width=.3,width=.1,color=[.8,.8,.8],length_includes_head=True)\n",
    "\n",
    "\n",
    "# make the plot look a bit nicer\n",
    "plt.grid(linestyle='--',linewidth=.5)\n",
    "plt.axis('square')\n",
    "plt.axis([-6,6,-6,6])\n",
    "plt.legend([a1,a2,a3],['v','w','v+w'])\n",
    "plt.title('Vectors $\\mathbf{v}$, $\\mathbf{w}$, and $\\mathbf{v+w}$')\n",
    "plt.savefig('Figure_02_02a.png',dpi=300) # write out the fig to a file\n",
    "plt.show()"
   ]
  },
  {
   "cell_type": "code",
   "execution_count": null,
   "metadata": {},
   "outputs": [],
   "source": [
    "u = v-w\n",
    "\n",
    "plt.figure(figsize=(6,6))\n",
    "\n",
    "a1 = plt.arrow(0,0,v[0],v[1],head_width=.3,width=.1,color='k',length_includes_head=True)\n",
    "a2 = plt.arrow(0,0,w[0],w[1],head_width=.3,width=.1,color=[.5,.5,.5],length_includes_head=True)\n",
    "a3 = plt.arrow(w[0],w[1],u[0],u[1],head_width=.3,width=.1,color=[.8,.8,.8],length_includes_head=True)\n",
    "\n",
    "\n",
    "# make the plot look a bit nicer\n",
    "plt.grid(linestyle='--',linewidth=.5)\n",
    "plt.axis('square')\n",
    "plt.axis([-6,6,-6,6])\n",
    "plt.legend([a1,a2,a3],['v','w','v-w'])\n",
    "plt.title('Vectors $\\mathbf{v}$, $\\mathbf{w}$, and $\\mathbf{v-w}$')\n",
    "plt.savefig('Figure_02_02b.png',dpi=300)\n",
    "plt.show()"
   ]
  },
  {
   "cell_type": "markdown",
   "metadata": {},
   "source": [
    "# Exercise 2\n",
    "\n",
    "Write an algorithm that computes the norm of a vector by translating [Equation 2-7](https://learning.oreilly.com/library/view/practical-linear-algebra/9781098120603/ch02.html#vector-norm) into code."
   ]
  },
  {
   "cell_type": "code",
   "execution_count": null,
   "metadata": {},
   "outputs": [],
   "source": [
    "x = np.random.randn(6)\n",
    "np.sqrt(np.sum(x**2)) == np.linalg.norm(x)"
   ]
  },
  {
   "cell_type": "markdown",
   "metadata": {},
   "source": [
    "# Ex. 3\n",
    "\n",
    "Create a Python function that will take a vector as input and output a unit vector in the same direction. \n",
    "What happens when you input the zeros vector?"
   ]
  },
  {
   "cell_type": "code",
   "execution_count": null,
   "metadata": {},
   "outputs": [],
   "source": [
    "def create_unit_vector(v):\n",
    "    return v/np.linalg.norm(v)\n",
    "\n",
    "v = np.array([0,1,0]) # this is a unit vector\n",
    "print(f\"{v = }, {create_unit_vector(v) = }\")\n",
    "\n",
    "v = np.array([1,2,3])\n",
    "unitv = create_unit_vector(v)\n",
    "print(f\"\\n{unitv = }\")\n",
    "assert np.sum(unitv**2) == 1 \n",
    "\n",
    "# observe what happens when you use zero vector\n",
    "v = np.zeros((3))\n",
    "print(f\"\\n{create_unit_vector(v) = }\")"
   ]
  },
  {
   "cell_type": "markdown",
   "metadata": {},
   "source": [
    "# Ex. 4\n",
    "\n",
    "You know how to create unit vectors; what if you want to create a vector of any arbitrary magnitude? Write a Python function that will take a vector and a desired magnitude as inputs and will return a vector in the same direction but with a magnitude corresponding to the second input."
   ]
  },
  {
   "cell_type": "code",
   "execution_count": null,
   "metadata": {},
   "outputs": [],
   "source": [
    "def createMagVector(v, magnitude): \n",
    "    return v/ np.linalg.norm(v) * magnitude\n",
    "\n",
    "w = np.array([1,2,3])\n",
    "x = createMagVector(w, 4)\n",
    "assert np.linalg.norm(x)==4.\n",
    "print(f\"{x = }\")"
   ]
  },
  {
   "cell_type": "markdown",
   "metadata": {},
   "source": [
    "# Ex. 5\n",
    "\n",
    "Write a for loop to transpose a row vector into a column vector without using a built-in function or method such as np.transpose() or v.T. This exercise will help you create and index orientation-endowed vectors."
   ]
  },
  {
   "cell_type": "code",
   "execution_count": null,
   "metadata": {},
   "outputs": [],
   "source": [
    "v = [1,2,3]\n",
    "v = np.array([v])\n",
    "\n",
    "vt = np.zeros(v.T.shape)\n",
    "# vt = np.zeros_like(v.T)\n",
    "\n",
    "for i in range(v.shape[1]):\n",
    "    vt[i, 0] = v[0, i] \n",
    "\n",
    "print(f\"{v =}\")\n",
    "print(f\"vt:\\n{vt}\")\n",
    "\n",
    "# Note about data types: The two vectors actually have different data types\n",
    "#  (ints vs. floats). we defined v using ints while the default type\n",
    "#  for np.zeros is float. You can match data types in several ways, including: \n",
    "#  (1) write 3. instead of 3 when creating v; \n",
    "#  (2) use dtype=np.float as an optional input."
   ]
  },
  {
   "cell_type": "markdown",
   "metadata": {},
   "source": [
    "# Ex. 6\n",
    "\n",
    "Here is an interesting fact: you can compute the squared norm of a vector as the dot product of that vector with itself. Look back to [Equation 2-7](https://learning.oreilly.com/library/view/practical-linear-algebra/9781098120603/ch02.html#vector-norm) to convince yourself of this equivalence. Then confirm it using Python."
   ]
  },
  {
   "cell_type": "code",
   "execution_count": null,
   "metadata": {},
   "outputs": [],
   "source": [
    "x = np.random.randn(3)\n",
    "\n",
    "np.linalg.norm(x)**2 == np.dot(x, x)"
   ]
  },
  {
   "cell_type": "markdown",
   "metadata": {},
   "source": [
    "# Ex. 7\n",
    "\n",
    "Write code to demonstrate that the dot product is commutative ($a\\times b = b\\times a$). For vector doc product this means $\\mathbf{a^{\\top}b}=b^{\\top}a$.  use equation [Equation 2-9](https://learning.oreilly.com/library/view/practical-linear-algebra/9781098120603/ch02.html#dp-alg) to understand why the dot product is commutative."
   ]
  },
  {
   "cell_type": "code",
   "execution_count": null,
   "metadata": {},
   "outputs": [],
   "source": [
    "# dimensionality\n",
    "n = 11\n",
    "\n",
    "x = np.random.randn(n, 2)\n",
    "y = np.random.randn(n, 2)\n",
    "assert np.sum(x*y)-np.sum(y*x)<1e-9\n"
   ]
  },
  {
   "cell_type": "markdown",
   "metadata": {},
   "source": [
    "# Ex. 8\n",
    "\n",
    "Write code to produce Figure 2-6. (Note that your solution doesn’t need to look exactly like the figure, as long as the key elements are present.)"
   ]
  },
  {
   "cell_type": "code",
   "execution_count": null,
   "metadata": {},
   "outputs": [],
   "source": [
    "# the vectors a and b\n",
    "a = np.array([1,2])\n",
    "b = np.array([1.5,.5])\n",
    "\n",
    "# compute beta\n",
    "beta = np.dot(a,b) / np.dot(a,a)\n",
    "\n",
    "# compute the projection vector (not explicitly used in the plot)\n",
    "projvect = b - beta*a\n",
    "\n",
    "\n",
    "# draw the figure\n",
    "plt.figure(figsize=(4,4))\n",
    "\n",
    "# vectors\n",
    "plt.arrow(0,0,a[0],a[1],head_width=.2,width=.02,color='k',length_includes_head=True)\n",
    "plt.arrow(0,0,b[0],b[1],head_width=.2,width=.02,color='k',length_includes_head=True)\n",
    "\n",
    "# projection vector\n",
    "plt.plot([b[0],beta*a[0]],[b[1],beta*a[1]],'k--')\n",
    "\n",
    "# projection on a\n",
    "plt.plot(beta*a[0],beta*a[1],'ko',markerfacecolor='w',markersize=13)\n",
    "\n",
    "# make the plot look nicer\n",
    "plt.plot([-1,2.5],[0,0],'--',color='gray',linewidth=.5)\n",
    "plt.plot([0,0],[-1,2.5],'--',color='gray',linewidth=.5)\n",
    "\n",
    "# add labels\n",
    "plt.text(a[0]+.1,a[1],'a',fontweight='bold',fontsize=18)\n",
    "plt.text(b[0],b[1]-.3,'b',fontweight='bold',fontsize=18)\n",
    "plt.text(beta*a[0]-.35,beta*a[1],r'$\\beta$',fontweight='bold',fontsize=18)\n",
    "plt.text((b[0]+beta*a[0])/2,(b[1]+beta*a[1])/2+.1,r'(b-$\\beta$a)',fontweight='bold',fontsize=18)\n",
    "\n",
    "# some finishing touches\n",
    "plt.axis('square')\n",
    "plt.axis([-1,2.5,-1,2.5])\n",
    "plt.show()"
   ]
  },
  {
   "cell_type": "markdown",
   "metadata": {},
   "source": [
    "# Ex. 9\n",
    "\n",
    "Implement orthogonal vector decomposition. Start with two random-number vectors and $\\mathbf{r}$, and $\\mathbf{t}$ reproduce Figure 2-8 (note that your plot will look somewhat different due to random numbers). Next, confirm that the two components sum to $\\mathbf{t}$ and that $\\mathbf{t_{\\perp r}}$ and $\\mathbf{t_{||r}}$ are orthogonal.\n",
    "\n",
    "<p align=\"center\">\n",
    "  <img src=\".\\imgs\\book\\plad_0208.png\" alt=\"\">\n",
    "</p>"
   ]
  },
  {
   "cell_type": "code",
   "execution_count": null,
   "metadata": {},
   "outputs": [],
   "source": [
    "# generate random R2 vectors (note: no orientation here! we don't need it for this exercise)\n",
    "t = np.random.randn(2)\n",
    "r = np.random.randn(2)\n",
    "\n",
    "print(f\"{t = }\\n{r = }\")\n",
    "\n",
    "# the decomposition\n",
    "t_para = r * (np.dot(t,r) / np.dot(r,r))\n",
    "t_perp = t - t_para\n",
    "\n",
    "# confirm orthogonality (dot product must be zero!)\n",
    "assert np.dot(t_para, t_perp)<1e-9, f\"{np.dot(t_para, t_perp)}\"\n",
    "# Note about this result: Due to numerical precision errors, \n",
    "#   you might get a result of something like 10^-17, which can be interpretd as zero.\n",
    "\n",
    "# draw them!\n",
    "plt.figure(figsize=(4,4))\n",
    "\n",
    "# draw main vectors\n",
    "plt.plot([0,t[0]],[0,t[1]],color='k',linewidth=3,label=r'$\\mathbf{t}$')\n",
    "plt.plot([0,r[0]],[0,r[1]],color=[.7,.7,.7],linewidth=3,label=r'$\\mathbf{r}$')\n",
    "\n",
    "# draw decomposed vector components\n",
    "plt.plot([0,t_para[0]],[0,t_para[1]],'k--',linewidth=3,label=r'$\\mathbf{t}_{\\|}$')\n",
    "plt.plot([0,t_perp[0]],[0,t_perp[1]],'k:',linewidth=3,label=r'$\\mathbf{t}_{\\perp}$')\n",
    "\n",
    "plt.axis('equal')\n",
    "plt.legend()\n",
    "plt.savefig('Figure_02_08.png',dpi=300)\n",
    "plt.show()"
   ]
  }
 ],
 "metadata": {
  "kernelspec": {
   "display_name": "py310_2env",
   "language": "python",
   "name": "python3"
  },
  "language_info": {
   "codemirror_mode": {
    "name": "ipython",
    "version": 3
   },
   "file_extension": ".py",
   "mimetype": "text/x-python",
   "name": "python",
   "nbconvert_exporter": "python",
   "pygments_lexer": "ipython3",
   "version": "3.10.13"
  }
 },
 "nbformat": 4,
 "nbformat_minor": 2
}
