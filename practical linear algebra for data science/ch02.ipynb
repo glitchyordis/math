{
 "cells": [
  {
   "cell_type": "code",
   "execution_count": null,
   "metadata": {},
   "outputs": [],
   "source": [
    "import numpy as np\n",
    "import matplotlib.pyplot as plt"
   ]
  },
  {
   "cell_type": "code",
   "execution_count": null,
   "metadata": {},
   "outputs": [],
   "source": [
    "import matplotlib_inline.backend_inline\n",
    "matplotlib_inline.backend_inline.set_matplotlib_formats(\"svg\")\n",
    "plt.rcParams.update({\"font.size\":14})"
   ]
  },
  {
   "cell_type": "markdown",
   "metadata": {},
   "source": [
    "# Geometry of vectors"
   ]
  },
  {
   "cell_type": "code",
   "execution_count": null,
   "metadata": {},
   "outputs": [],
   "source": [
    "# create and plot a vec. in standard position with the head at x=-1, y=2\n",
    "\n",
    "# create a vector\n",
    "v = np.array([-1,2])\n",
    "\n",
    "# plot vector (and a dot on tail)\n",
    "plt.arrow(0, 0, v[0], v[1], head_width=.5, width=.1)\n",
    "plt.plot(0, 0, 'ko', markerfacecolor='k', markersize=7)\n",
    "\n",
    "# add axis lines\n",
    "plt.plot([-3, 3], [0,0], '--', color=[.8,.8,.8], zorder=-1)\n",
    "plt.plot([0, 0], [-3, 3], '--', color=[.8,.8,.8], zorder=-1)\n",
    "\n",
    "# make the plot look nicer\n",
    "plt.axis('square')\n",
    "plt.axis([-3, 3, -3, 3])\n",
    "plt.xlabel('$v_0$')\n",
    "plt.ylabel('$v_1$')\n",
    "plt.title('Vector v in standard position')\n",
    "plt.show()"
   ]
  },
  {
   "cell_type": "code",
   "execution_count": null,
   "metadata": {},
   "outputs": [],
   "source": [
    "# plot v = np.array([-1,2]) at standard position, and 2 other positions\n",
    "\n",
    "v = np.array([-1,2])\n",
    "\n",
    "# A range of starting positions\n",
    "startPos = [\n",
    "            [0, 0],\n",
    "            [-1, -1],\n",
    "            [1.5, -2]\n",
    "            ]\n",
    "\n",
    "# create a new figure\n",
    "fig = plt.figure(figsize=(6,6))\n",
    "\n",
    "for s in startPos:\n",
    "  # plot that vector (and a dot for the tail)\n",
    "  # note that plt.arrow automatically adds an offset to the third/fourth inputs\n",
    "  plt.arrow(s[0], s[1], v[0], v[1], head_width=.5, width=.1, color='black')\n",
    "  plt.plot(s[0], s[1], 'ko',markerfacecolor='k', markersize=7)\n",
    "\n",
    "  # indicate the vector in its standard position\n",
    "  if s==[0, 0]:\n",
    "    plt.text(v[0]+.1, v[1]+.2, '\"Standard pos.\"')\n",
    "\n",
    "# add axis lines\n",
    "plt.plot([-3, 3],[0, 0],'--',color=[.8,.8,.8],zorder=-1)\n",
    "plt.plot([0, 0],[-3, 3],'--',color=[.8,.8,.8],zorder=-1)\n",
    "\n",
    "# make the plot look nicer\n",
    "plt.axis('square')\n",
    "plt.axis([-3, 3, -3, 3])\n",
    "plt.xlabel('$v_0$')\n",
    "plt.ylabel('$v_1$')\n",
    "plt.title('Vector $\\mathbf{v}$ in various locations')\n",
    "# plt.savefig('Figure_02_01.png',dpi=300) # write out the fig to a file\n",
    "plt.show()"
   ]
  },
  {
   "cell_type": "markdown",
   "metadata": {},
   "source": [
    "# Vector-scalar multiplication"
   ]
  },
  {
   "cell_type": "code",
   "execution_count": null,
   "metadata": {},
   "outputs": [],
   "source": [
    "# a scalar\n",
    "s = 3.5\n",
    "\n",
    "# a vector\n",
    "b = np.array([3,4])\n",
    "\n",
    "# plot\n",
    "plt.plot([0, b[0]], [0, b[1]], 'm--', linewidth=3, label='b')\n",
    "plt.plot([0, s*b[0]], [0, s*b[1]], 'k:', linewidth=3, label='sb')\n",
    "\n",
    "plt.grid()\n",
    "plt.axis('square')\n",
    "plt.axis([-6,6,-6,6])\n",
    "plt.legend()\n",
    "plt.show()"
   ]
  },
  {
   "cell_type": "code",
   "execution_count": null,
   "metadata": {},
   "outputs": [],
   "source": [
    "# Effects of different scalars\n",
    "\n",
    "# a list of scalars:\n",
    "scalars = [1, 2, 1/3, 0, -2/3]\n",
    "\n",
    "baseVector = np.array([.75, 1])\n",
    "\n",
    "# create a figure\n",
    "fig, axs = plt.subplots(1, len(scalars), figsize=(12,3))\n",
    "\n",
    "i = 0 # axis counter\n",
    "for s in scalars:\n",
    "  v = s*baseVector # compute the scaled vector\n",
    "\n",
    "  # plot it\n",
    "  axs[i].arrow(0, 0, baseVector[0],baseVector[1],head_width=.3,width=.1,color='k', length_includes_head=True)\n",
    "  axs[i].arrow(.1, 0, v[0],v[1],head_width=.3,width=.1,color=[.75,.75,.75], length_includes_head=True)\n",
    "  \n",
    "  axs[i].grid(linestyle='--')\n",
    "  axs[i].axis('square')\n",
    "  axs[i].axis([-2.5,2.5,-2.5,2.5])\n",
    "  axs[i].set(xticks=np.arange(-2,3), yticks=np.arange(-2,3))\n",
    "  axs[i].set_title(f'$\\sigma$ = {s:.2f}')\n",
    "  i+=1 # update axis counter\n",
    "\n",
    "plt.tight_layout()\n",
    "# plt.savefig('Figure_02_03.png',dpi=300)\n",
    "plt.show()\n"
   ]
  },
  {
   "cell_type": "markdown",
   "metadata": {},
   "source": [
    "# Excercise 1\n",
    "\n",
    "write your own code to produce Figure 2-2."
   ]
  },
  {
   "cell_type": "code",
   "execution_count": null,
   "metadata": {},
   "outputs": [],
   "source": [
    "v = np.array([1, 2])\n",
    "w = np.array([4, -6])\n",
    "u = v+w\n",
    "\n",
    "plt.figure(figsize=(6,6))\n",
    "\n",
    "a1 = plt.arrow(0,0,v[0],v[1], \n",
    "               head_width=.3, width=.1, color='k', length_includes_head=True)\n",
    "a2 = plt.arrow(v[0],v[1],w[0],w[1], \n",
    "               head_width=.3, width=.1, color=[.5,.5,.5], length_includes_head=True)\n",
    "a3 = plt.arrow(0,0,u[0],u[1], \n",
    "               head_width=.3, width=.1, color=[.8,.8,.8], length_includes_head=True)\n",
    "\n",
    "# make the plot look a bit nicer\n",
    "plt.grid(linestyle='--', linewidth=.5)\n",
    "plt.axis('square')\n",
    "plt.axis([-6,6,-6,6])\n",
    "plt.legend([a1,a2,a3],['v','w','v+w'])\n",
    "plt.title('Vectors $\\mathbf{v}$, $\\mathbf{w}$, and $\\mathbf{v+w}$')\n",
    "# plt.savefig('Figure_02_02a.png', dpi=300) # write out the fig to a file\n",
    "plt.show()"
   ]
  },
  {
   "cell_type": "code",
   "execution_count": null,
   "metadata": {},
   "outputs": [],
   "source": [
    "u = v-w\n",
    "\n",
    "plt.figure(figsize=(6,6))\n",
    "\n",
    "a1 = plt.arrow(0,0,v[0],v[1],head_width=.3,width=.1,color='k',length_includes_head=True)\n",
    "a2 = plt.arrow(0,0,w[0],w[1],head_width=.3,width=.1,color=[.5,.5,.5],length_includes_head=True)\n",
    "a3 = plt.arrow(w[0],w[1],u[0],u[1],head_width=.3,width=.1,color=[.8,.8,.8],length_includes_head=True)\n",
    "\n",
    "# make the plot look a bit nicer\n",
    "plt.grid(linestyle='--',linewidth=.5)\n",
    "plt.axis('square')\n",
    "plt.axis([-6,6,-6,6])\n",
    "plt.legend([a1,a2,a3],['v','w','v-w'])\n",
    "plt.title('Vectors $\\mathbf{v}$, $\\mathbf{w}$, and $\\mathbf{v-w}$')\n",
    "# plt.savefig('Figure_02_02b.png',dpi=300)\n",
    "plt.show()"
   ]
  },
  {
   "cell_type": "markdown",
   "metadata": {},
   "source": [
    "# Ex. 8\n",
    "\n",
    "Write code to produce Figure 2-6. (Note that your solution doesn’t need to look exactly like the figure, as long as the key elements are present.)"
   ]
  },
  {
   "cell_type": "code",
   "execution_count": null,
   "metadata": {},
   "outputs": [],
   "source": [
    "# the vectors a and b\n",
    "a = np.array([1, 2])\n",
    "b = np.array([1.5, .5])\n",
    "\n",
    "# compute beta\n",
    "beta = np.dot(a, b) / np.dot(a,a)\n",
    "\n",
    "# compute projection vector (not explicitly used in the plot)\n",
    "projvect = b - beta*a\n",
    "\n",
    "# draw the figure\n",
    "plt.figure(figsize=(4,4))\n",
    "\n",
    "# vectors\n",
    "plt.arrow(0,0,a[0],a[1],head_width=.2,width=.02,color='k',length_includes_head=True)\n",
    "plt.arrow(0,0,b[0],b[1],head_width=.2,width=.02,color='k',length_includes_head=True)\n",
    "\n",
    "# projection vector\n",
    "plt.plot([b[0], beta*a[0]], [b[1], beta*a[1]],'k--')\n",
    "plt.plot(beta*a[0],beta*a[1],'ko',markerfacecolor='w',markersize=13)\n",
    "\n",
    "# make the plot look nicer\n",
    "plt.plot([-1,2.5],[0,0],'--',color='gray',linewidth=.5)\n",
    "plt.plot([0,0],[-1,2.5],'--',color='gray',linewidth=.5)\n",
    "\n",
    "# add labels\n",
    "plt.text(a[0]+.1, a[1],'a',fontweight='bold', fontsize=18)\n",
    "plt.text(b[0], b[1]-.3,'b',fontweight='bold', fontsize=18)\n",
    "plt.text(beta*a[0]-.35,beta*a[1], r'$\\beta$', fontweight='bold', fontsize=18)\n",
    "plt.text((b[0]+beta*a[0])/2,(b[1]+beta*a[1])/2+.1, r'(b-$\\beta$a)', fontweight='bold', fontsize=18)\n",
    "\n",
    "# some finishing touches\n",
    "plt.axis('square')\n",
    "plt.axis([-1, 2.5, -1, 2.5])\n",
    "plt.show()"
   ]
  },
  {
   "cell_type": "markdown",
   "metadata": {},
   "source": [
    "# Ex. 9\n",
    "\n",
    "Implement orthogonal vector decomposition. Start with two random-number vectors and $\\mathbf{r}$, and $\\mathbf{t}$ reproduce Figure 2-8 (note that your plot will look somewhat different due to random numbers). Confirm that the two components sum to $\\mathbf{t}$ and that $\\mathbf{t_{\\perp r}}$ and $\\mathbf{t_{||r}}$ are orthogonal.\n",
    "\n",
    "<p align=\"center\">\n",
    "  <img src=\".\\imgs\\book\\plad_0208.png\" alt=\"\" width=\"400\" style=\"max-width:100%;\">\n",
    "</p>"
   ]
  },
  {
   "cell_type": "code",
   "execution_count": null,
   "metadata": {},
   "outputs": [],
   "source": [
    "# generate random R2 vectors (note: no orientation here! not required for this exercise)\n",
    "t = np.random.randn(2)\n",
    "r = np.random.randn(2)\n",
    "\n",
    "print(f\"{t = }\\n{r = }\")\n",
    "\n",
    "# the decomposition\n",
    "t_para = r * (np.dot(t, r)/ np.dot(r, r))\n",
    "t_perp = t - t_para\n",
    "\n",
    "# confirm orthogonality (dot product must be zero!)\n",
    "assert np.dot(t_para, t_perp)<1e-9, f\"{np.dot(t_para, t_perp)}\"\n",
    "# Note: Due to numerical precision errors, \n",
    "#   you might get a result of something like 10^-17, which can be interpretd as zero.\n",
    "\n",
    "# draw them!\n",
    "plt.figure(figsize=(4,4))\n",
    "\n",
    "# draw main vectors\n",
    "plt.plot([0,t[0]], [0,t[1]], color='k', linewidth=3, label=r'$\\mathbf{t}$')\n",
    "plt.plot([0,r[0]], [0,r[1]], color=[.7,.7,.7], linewidth=3, label=r'$\\mathbf{r}$')\n",
    "\n",
    "# draw decomposed vector components\n",
    "plt.plot([0, t_para[0]], [0, t_para[1]],'k--', linewidth=3, label=r'$\\mathbf{t}_{\\|}$')\n",
    "plt.plot([0, t_perp[0]], [0, t_perp[1]],'k:', linewidth=3, label=r'$\\mathbf{t}_{\\perp}$')\n",
    "\n",
    "plt.axis('equal')\n",
    "plt.legend()\n",
    "# plt.savefig('Figure_02_08.png',dpi=300)\n",
    "plt.show()"
   ]
  }
 ],
 "metadata": {
  "kernelspec": {
   "display_name": "py310_2env",
   "language": "python",
   "name": "python3"
  },
  "language_info": {
   "codemirror_mode": {
    "name": "ipython",
    "version": 3
   },
   "file_extension": ".py",
   "mimetype": "text/x-python",
   "name": "python",
   "nbconvert_exporter": "python",
   "pygments_lexer": "ipython3",
   "version": "3.10.13"
  }
 },
 "nbformat": 4,
 "nbformat_minor": 2
}
