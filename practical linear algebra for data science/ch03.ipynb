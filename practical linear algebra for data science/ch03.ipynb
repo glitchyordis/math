{
 "cells": [
  {
   "cell_type": "code",
   "execution_count": null,
   "metadata": {},
   "outputs": [],
   "source": [
    "import numpy as np\n",
    "import matplotlib.pyplot as plt\n",
    "\n",
    "# NOTE: these lines define global figure properties used for publication.\n",
    "import matplotlib_inline.backend_inline\n",
    "matplotlib_inline.backend_inline.set_matplotlib_formats('svg') # print figures in svg format\n",
    "plt.rcParams.update({'font.size':14}) # set global font size"
   ]
  },
  {
   "cell_type": "markdown",
   "metadata": {},
   "source": [
    "# linear weighted combinations"
   ]
  },
  {
   "cell_type": "code",
   "execution_count": null,
   "metadata": {},
   "outputs": [],
   "source": [
    "# the scalars\n",
    "l1 = 1\n",
    "l2 = 2\n",
    "l3 = -3\n",
    "\n",
    "# the vectors\n",
    "v1 = np.array([4,5,1])\n",
    "v2 = np.array([-4,0,-4])\n",
    "v3 = np.array([1,3,2])\n",
    "\n",
    "# linear weighted combination\n",
    "print(l1*v1 + l2*v2 + l3*v3)\n",
    "\n",
    "# incorrect implementation\n",
    "print(l1*v1.tolist() + l2*v2.tolist() + l3*v3.tolist())"
   ]
  },
  {
   "cell_type": "markdown",
   "metadata": {},
   "source": [
    "# Basic vectors and points"
   ]
  },
  {
   "cell_type": "code",
   "execution_count": null,
   "metadata": {},
   "outputs": [],
   "source": [
    "# points (in Cartesian coordinates)\n",
    "p = (3,1)\n",
    "q = (-6,2)\n",
    "\n",
    "plt.figure(figsize=(6,6))\n",
    "\n",
    "# draw points\n",
    "plt.plot(p[0],p[1],'ko',markerfacecolor='k',markersize=10,label='Point p')\n",
    "plt.plot(q[0],q[1],'ks',markerfacecolor='k',markersize=10,label='Point q')\n",
    "\n",
    "# draw basis vectors\n",
    "plt.plot([0,0],[0,1],'k',linewidth=3,label='Basis S')\n",
    "plt.plot([0,1],[0,0],'k',linewidth=3)\n",
    "\n",
    "plt.plot([0,3],[0,1],'k--',linewidth=3,label='Basis T')\n",
    "plt.plot([0,-3],[0,1],'k--',linewidth=3)\n",
    "\n",
    "\n",
    "plt.axis('square')\n",
    "plt.grid(linestyle='--',color=[.8,.8,.8])\n",
    "plt.xlim([-7,7])\n",
    "plt.ylim([-7,7])\n",
    "plt.legend()\n",
    "plt.savefig('Figure_03_04.png',dpi=300)\n",
    "plt.show()"
   ]
  },
  {
   "cell_type": "markdown",
   "metadata": {},
   "source": [
    "# Ex 1"
   ]
  },
  {
   "cell_type": "code",
   "execution_count": null,
   "metadata": {},
   "outputs": [],
   "source": [
    "## Note: Make sure you run the code earlier to create variables l1, l2, etc.\n",
    "\n",
    "scalars = [l1, l2, l3]\n",
    "vectors = [v1, v2, v3]\n",
    "\n",
    "linCombo = np.zeros(len(v1))\n",
    "print(f\"{linCombo = }\")\n",
    "\n",
    "for s, v in zip(scalars, vectors):\n",
    "    linCombo += s*v\n",
    "\n",
    "assert np.array_equal(linCombo,  l1*v1 + l2*v2 + l3*v3)"
   ]
  },
  {
   "cell_type": "markdown",
   "metadata": {},
   "source": [
    "# Ex 2"
   ]
  },
  {
   "cell_type": "code",
   "execution_count": null,
   "metadata": {},
   "outputs": [],
   "source": [
    "# Whether it works or throws an error depends on how you set up the code.\n",
    "# Using zip() as above works, because zip() will use only the minimum-matching items.\n",
    "# Re-writing the code using indexing will cause an error, as in the code below.\n",
    "\n",
    "# make the scalars longer\n",
    "scalars = [ l1,l2,l3,5 ]\n",
    "vectors = [ v1,v2,v3 ]\n",
    "\n",
    "linCombo = np.zeros(len(v1))\n",
    "\n",
    "try:\n",
    "    for i in range(len(scalars)):\n",
    "        linCombo += scalars[i]*vectors[i]\n",
    "except Exception as e:\n",
    "    print(f\"{e = }\")\n",
    "\n",
    "try:\n",
    "    for s, v in zip(scalars, vectors):\n",
    "      linCombo += s*v\n",
    "    assert np.array_equal(linCombo,  l1*v1 + l2*v2 + l3*v3)\n",
    "except Exception as e:\n",
    "    print(f\"{e = }\")"
   ]
  },
  {
   "cell_type": "markdown",
   "metadata": {},
   "source": [
    "# Ex 3"
   ]
  },
  {
   "cell_type": "code",
   "execution_count": null,
   "metadata": {},
   "outputs": [],
   "source": [
    "A = np.array([1, 3])\n",
    "\n",
    "xlim = [-4, 4]\n",
    "\n",
    "scalars = np.random.uniform(low=xlim[0], high=xlim[1], size=100)\n",
    "print(f\"{scalars = }\")\n",
    "\n",
    "plt.figure(figsize=(6,6))\n",
    "\n",
    "output = np.outer(scalars, A)\n",
    "print(f\"{output.shape = }\")\n",
    "\n",
    "plt.scatter(output[:,0], output[:,1], color=\"k\", marker=\"o\")\n",
    "plt.xlim(xlim)\n",
    "plt.ylim(xlim)\n",
    "plt.grid()\n",
    "plt.text(-4.5, 4.5, \"A\", fontweight=\"bold\", fontsize=18)\n",
    "plt.savefig('Figure_03_07a.png',dpi=300)\n",
    "plt.show()"
   ]
  },
  {
   "cell_type": "code",
   "execution_count": null,
   "metadata": {},
   "outputs": [],
   "source": [
    "import plotly.graph_objects as go\n",
    "\n",
    "\n",
    "# two vectors in R3\n",
    "v1 = np.array([ 3,5,1 ])\n",
    "v2 = np.array([ 0,2,2 ])\n",
    "\n",
    "scalars = np.random.uniform(low=xlim[0],high=xlim[1],size=(100,2))\n",
    "\n",
    "points = np.outer(scalars[:,0],v1)+np.outer(scalars[:,1],v2)\n",
    "\n",
    "# draw the dots in the plane\n",
    "fig = go.Figure(data=[go.Scatter3d(x=points[:,0], \n",
    "                                   y=points[:,1], \n",
    "                                   z=points[:,2], \n",
    "                                   mode='markers', \n",
    "                                   marker=dict(size=6,color='black') )])\n",
    "fig.update_layout(margin=dict(l=0,r=0,b=0,t=0))\n",
    "plt.savefig('Figure_03_07b.png',dpi=300)\n",
    "fig.show()"
   ]
  },
  {
   "cell_type": "code",
   "execution_count": null,
   "metadata": {},
   "outputs": [],
   "source": [
    "v1 = np.array([ 3.0,5.0,1.0 ])\n",
    "v2 = np.array([ 1.5,2.5,0.5 ])\n",
    "\n",
    "scalars = np.random.uniform(low=xlim[0],high=xlim[1],size=(100,2))\n",
    "\n",
    "points = np.outer(scalars[:,0],v1)+np.outer(scalars[:,1],v2)\n",
    "\n",
    "# draw the dots in the plane\n",
    "fig = go.Figure(data=[go.Scatter3d(x=points[:,0], \n",
    "                                   y=points[:,1], \n",
    "                                   z=points[:,2], \n",
    "                                   mode='markers', \n",
    "                                   marker=dict(size=6,color='black') )])\n",
    "fig.update_layout(margin=dict(l=0,r=0,b=0,t=0))\n",
    "plt.savefig('Figure_03_07b.png',dpi=300)\n",
    "fig.show()"
   ]
  }
 ],
 "metadata": {
  "kernelspec": {
   "display_name": "py310_2env",
   "language": "python",
   "name": "python3"
  },
  "language_info": {
   "codemirror_mode": {
    "name": "ipython",
    "version": 3
   },
   "file_extension": ".py",
   "mimetype": "text/x-python",
   "name": "python",
   "nbconvert_exporter": "python",
   "pygments_lexer": "ipython3",
   "version": "3.10.13"
  }
 },
 "nbformat": 4,
 "nbformat_minor": 2
}
